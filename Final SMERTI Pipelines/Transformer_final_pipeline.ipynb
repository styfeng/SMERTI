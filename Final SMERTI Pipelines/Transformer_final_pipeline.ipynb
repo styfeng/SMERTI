{
 "cells": [
  {
   "cell_type": "code",
   "execution_count": 0,
   "metadata": {
    "colab": {},
    "colab_type": "code",
    "id": "GcTcp1TXUx0o"
   },
   "outputs": [],
   "source": [
    "from google.colab import drive\n",
    "drive.mount('/content/drive')"
   ]
  },
  {
   "cell_type": "code",
   "execution_count": 0,
   "metadata": {
    "cellView": "both",
    "colab": {},
    "colab_type": "code",
    "id": "TkHU8cw0U48c"
   },
   "outputs": [],
   "source": [
    "!nvidia-smi\n",
    "\n",
    "from tensorflow.python.client import device_lib\n",
    "device_lib.list_local_devices()"
   ]
  },
  {
   "cell_type": "markdown",
   "metadata": {
    "colab_type": "text",
    "id": "JO2TDyiKU7GV"
   },
   "source": [
    "##USE Entity Similarity"
   ]
  },
  {
   "cell_type": "code",
   "execution_count": 0,
   "metadata": {
    "colab": {},
    "colab_type": "code",
    "id": "v-LdtScQU50b"
   },
   "outputs": [],
   "source": [
    "import tensorflow as tf\n",
    "import tensorflow_hub as hub\n",
    "import matplotlib.pyplot as plt\n",
    "import numpy as np\n",
    "import os\n",
    "import pandas as pd\n",
    "import re\n",
    "import seaborn as sns\n",
    "\n",
    "tf.logging.set_verbosity(tf.logging.WARN)"
   ]
  },
  {
   "cell_type": "code",
   "execution_count": 0,
   "metadata": {
    "colab": {},
    "colab_type": "code",
    "id": "k__ZXUZjU_Mc"
   },
   "outputs": [],
   "source": [
    "g = tf.Graph()\n",
    "with g.as_default():\n",
    "  text_input = tf.placeholder(dtype=tf.string, shape=[None])\n",
    "  embed = hub.Module(\"https://tfhub.dev/google/universal-sentence-encoder-large/3\")\n",
    "  embedded_text = embed(text_input)\n",
    "  init_op = tf.group([tf.global_variables_initializer(), tf.tables_initializer()])\n",
    "  g.finalize()\n",
    "\n",
    "session = tf.Session(graph=g)\n",
    "session.run(init_op)"
   ]
  },
  {
   "cell_type": "code",
   "execution_count": 0,
   "metadata": {
    "colab": {
     "base_uri": "https://localhost:8080/",
     "height": 136
    },
    "colab_type": "code",
    "id": "Gstl4guAU_kE",
    "outputId": "1f58facc-6659-4342-dfe8-43c6fa67c83d"
   },
   "outputs": [
    {
     "name": "stdout",
     "output_type": "stream",
     "text": [
      "Requirement already satisfied: stanfordcorenlp in /usr/local/lib/python3.6/dist-packages (3.9.1.1)\n",
      "Requirement already satisfied: requests in /usr/local/lib/python3.6/dist-packages (from stanfordcorenlp) (2.21.0)\n",
      "Requirement already satisfied: psutil in /usr/local/lib/python3.6/dist-packages (from stanfordcorenlp) (5.4.8)\n",
      "Requirement already satisfied: urllib3<1.25,>=1.21.1 in /usr/local/lib/python3.6/dist-packages (from requests->stanfordcorenlp) (1.24.3)\n",
      "Requirement already satisfied: idna<2.9,>=2.5 in /usr/local/lib/python3.6/dist-packages (from requests->stanfordcorenlp) (2.8)\n",
      "Requirement already satisfied: chardet<3.1.0,>=3.0.2 in /usr/local/lib/python3.6/dist-packages (from requests->stanfordcorenlp) (3.0.4)\n",
      "Requirement already satisfied: certifi>=2017.4.17 in /usr/local/lib/python3.6/dist-packages (from requests->stanfordcorenlp) (2019.3.9)\n"
     ]
    }
   ],
   "source": [
    "!pip3 install stanfordcorenlp\n",
    "from string import punctuation\n",
    "from collections import OrderedDict\n",
    "\n",
    "import nltk\n",
    "from nltk.tree import *\n",
    "from stanfordcorenlp import StanfordCoreNLP\n",
    "nlp = StanfordCoreNLP(r'stanford-corenlp-full-2018-10-05')\n",
    "\n",
    "\n",
    "def parse_entity(entity):\n",
    "  labels_list = []\n",
    "  for subtree in entity.subtrees():\n",
    "    if subtree.label() != 'ROOT':\n",
    "      label = subtree.label()\n",
    "      if len(label) >= 3:\n",
    "        labels_list.append(label[:2])\n",
    "      else:\n",
    "        labels_list.append(label)\n",
    "  return labels_list\n",
    "\n",
    "\n",
    "def extract_leaves(tree, labels_list):\n",
    "    leaves_list = []\n",
    "    for i in tree.subtrees():\n",
    "      if i.label()[:2] in labels_list:\n",
    "        leaves_list.append(i.leaves())\n",
    "    return leaves_list\n",
    "\n",
    "\n",
    "def create_entities_list(list_of_lists):\n",
    "    entities_list = []\n",
    "    for entity_list in list_of_lists:\n",
    "        entity = ' '.join(entity_list).replace(\" '\", \"'\")\n",
    "        if entity not in entities_list:\n",
    "          entities_list.append(entity)\n",
    "    return entities_list"
   ]
  },
  {
   "cell_type": "code",
   "execution_count": 0,
   "metadata": {
    "colab": {},
    "colab_type": "code",
    "id": "swE7XRm-VAxc"
   },
   "outputs": [],
   "source": [
    "def get_similarity_matrix(embedded_text, text_input, input_list):\n",
    "  message_embeddings = session.run(\n",
    "      embedded_text, feed_dict={text_input: input_list})\n",
    "  corr = np.inner(message_embeddings, message_embeddings)\n",
    "  return corr"
   ]
  },
  {
   "cell_type": "code",
   "execution_count": 0,
   "metadata": {
    "colab": {},
    "colab_type": "code",
    "id": "YTMmDJ9jVC8c"
   },
   "outputs": [],
   "source": [
    "def process_text(s):\n",
    "    s = s.lower().strip()\n",
    "    s = re.sub('\\!+', '!', s)\n",
    "    s = re.sub('\\,+', ',', s)\n",
    "    s = re.sub('\\?+', '?', s)\n",
    "    s = re.sub('\\.+', '.', s)    \n",
    "    s = re.sub(\"[^a-zA-Z.!?,'']+\", ' ', s)\n",
    "    for p in punctuation:\n",
    "      if p not in [\"'\", \"[\", \"]\"]:\n",
    "        s = s.replace(p, \" \" + p + \" \")       \n",
    "    s = re.sub(' +', ' ', s)\n",
    "    s = s.strip()\n",
    "    return s\n",
    "\n",
    "    \n",
    "def sentence_to_words(sentence):\n",
    "  word_list = sentence.split()\n",
    "  return word_list"
   ]
  },
  {
   "cell_type": "code",
   "execution_count": 0,
   "metadata": {
    "colab": {},
    "colab_type": "code",
    "id": "xPh9495tVDVO"
   },
   "outputs": [],
   "source": [
    "def process_sentence(initial_sentence):\n",
    "  initial_sentence = process_text(initial_sentence)\n",
    "  return initial_sentence\n",
    "\n",
    "\n",
    "def process_entity(replacement_entity):\n",
    "  replacement_entity = process_text(replacement_entity)\n",
    "  return replacement_entity\n",
    "\n",
    "\n",
    "def get_word_list(initial_sentence):\n",
    "  word_list = sentence_to_words(initial_sentence)\n",
    "  return word_list\n",
    "\n",
    "\n",
    "def get_original_len(word_list):\n",
    "  clean_word_list = []\n",
    "  for word in word_list:\n",
    "    if word not in punctuation:\n",
    "      clean_word_list.append(word)\n",
    "  original_len = len(clean_word_list)\n",
    "  return original_len\n",
    "\n",
    "\n",
    "def get_trees(initial_sentence, replacement_entity):\n",
    "  entity = Tree.fromstring(nlp.parse(replacement_entity))\n",
    "  labels_list = parse_entity(entity)\n",
    "  \n",
    "  full_leaves_list = []\n",
    "  sentences = re.split('[?.!]', initial_sentence)\n",
    "  sentences = list(filter(lambda x: x not in ['',' '], sentences))\n",
    "  for sentence in sentences:\n",
    "    sentence = Tree.fromstring(nlp.parse(sentence))\n",
    "    leaves = extract_leaves(sentence, labels_list)\n",
    "    full_leaves_list = full_leaves_list + leaves\n",
    "  return full_leaves_list\n",
    "\n",
    "  \n",
    "def create_input_list(entities_list, word_list, replacement_entity):\n",
    "  entities_list = list(filter(lambda x: x not in word_list, entities_list))\n",
    "  full_input_list = word_list + entities_list + [replacement_entity]\n",
    "  full_input_list = list(filter(lambda x: x not in punctuation, full_input_list))\n",
    "  full_input_list = list(OrderedDict.fromkeys(full_input_list))\n",
    "  return full_input_list"
   ]
  },
  {
   "cell_type": "code",
   "execution_count": 0,
   "metadata": {
    "colab": {},
    "colab_type": "code",
    "id": "WqYVAdziVG1d"
   },
   "outputs": [],
   "source": [
    "def get_replacement_similarity(similarity_matrix):\n",
    "  replacement_entity_similarity = similarity_matrix[len(similarity_matrix)-1]\n",
    "  return replacement_entity_similarity\n",
    "\n",
    "\n",
    "def get_index_max(replacement_entity_similarity):\n",
    "  index_max = np.argmax(replacement_entity_similarity[:-1])\n",
    "  return index_max\n",
    "\n",
    "\n",
    "def get_full_index_max(full_input_list, replaced_entity):\n",
    "  full_index_max = full_input_list.index(replaced_entity)\n",
    "  return full_index_max\n",
    "  \n",
    "\n",
    "def get_original_similarity(similarity_matrix, index_max):\n",
    "  original_similarity = similarity_matrix[index_max]\n",
    "  return original_similarity\n",
    "\n",
    "\n",
    "def generate_new_sentence(entities_list, replacement_entity, initial_sentence, index_max):\n",
    "  replaced_entity = entities_list[index_max]\n",
    "  new_sentence = re.sub(r\"\\b%s\\b\" % replaced_entity, replacement_entity, initial_sentence)\n",
    "  return replaced_entity, new_sentence\n",
    "\n",
    "\n",
    "def get_new_length(new_sentence):\n",
    "  new_word_list = sentence_to_words(new_sentence)\n",
    "  new_list_len = len(list(filter(lambda x: x not in punctuation, new_word_list)))\n",
    "  return new_list_len"
   ]
  },
  {
   "cell_type": "code",
   "execution_count": 0,
   "metadata": {
    "colab": {},
    "colab_type": "code",
    "id": "W6VZhHVOVIte"
   },
   "outputs": [],
   "source": [
    "def get_masked_sentence(mask_threshold, similarity_threshold, length, similarity_vector_old, word_list, \n",
    "                      index_max, original_len, similar_words, new_sentence, mask_sentence, replacement_entity):\n",
    "  \n",
    "  if length <= int(round((original_len * mask_threshold))):\n",
    "    return mask_sentence, length/original_len\n",
    "  \n",
    "  else:\n",
    "    counter = 0\n",
    "    indices_list = []\n",
    "\n",
    "    for score in similarity_vector_old:\n",
    "      if score > similarity_threshold and counter != index_max and counter not in indices_list:\n",
    "        indices_list.append(counter)\n",
    "      counter += 1\n",
    "    \n",
    "    similar_words = []\n",
    "    for index in indices_list:\n",
    "        similar_words.append(word_list[index])\n",
    "    similar_words = list(filter(lambda x: x not in punctuation, similar_words))\n",
    "    similar_words = list(set(similar_words))\n",
    "    similar_words.sort(key=lambda x: len(x.split()), reverse=True)\n",
    "    \n",
    "    temp_mask_num, temp_mask_sentence = mask_similar_words(similar_words, new_sentence, replacement_entity)\n",
    "    \n",
    "    return get_masked_sentence(mask_threshold, similarity_threshold + 0.05, temp_mask_num, similarity_vector_old, \n",
    "                      word_list, index_max, original_len, similar_words, new_sentence, temp_mask_sentence, replacement_entity)\n",
    "  \n",
    "\n",
    "def mask_similar_words(similar_words, sentence, replacement_entity):\n",
    "  sentence_temp = sentence\n",
    "  masked_sentence = \"\"\n",
    "  mask_counter = 0\n",
    "  word_counter = 0\n",
    "  if len(similar_words) == 0:\n",
    "    masked_sentence = sentence_temp\n",
    "  else:\n",
    "    for word in similar_words:\n",
    "      if word not in replacement_entity and replacement_entity not in word:\n",
    "        sentence_temp = re.sub(r\"\\b%s\\b\" % word, \"[mask]\", sentence_temp)\n",
    "        masked_sentence = sentence_temp\n",
    "        temp_mask_counter = masked_sentence.count(\"[mask]\")\n",
    "        if temp_mask_counter > mask_counter:\n",
    "          mask_counter += 1\n",
    "          num_of_words = len(word.split())\n",
    "          word_counter += num_of_words\n",
    "  return word_counter, masked_sentence\n",
    "\n",
    "\n",
    "def mask_groupings(masked_list):\n",
    "  masked_group_list = []\n",
    "  previous_element = \"\"\n",
    "  for element in masked_list:\n",
    "    if element != \"[mask]\":\n",
    "      masked_group_list.append(element)\n",
    "    elif element == \"[mask]\":\n",
    "      if element != previous_element:\n",
    "        masked_group_list.append(element)\n",
    "    previous_element = element\n",
    "  return masked_group_list\n",
    "    \n",
    "\n",
    "def mask_fnc(replacement_entity_similarity, original_similarity, full_input_list, index_max, original_len, new_sentence, mask_threshold, similarity_threshold, replacement_entity):\n",
    "  masked_sentence, final_mask_rate = get_masked_sentence(mask_threshold, similarity_threshold, 1000, original_similarity[:-1], full_input_list, index_max, original_len, [], new_sentence, \"\", replacement_entity)\n",
    "  masked_word_list = masked_sentence.split()\n",
    "  masked_group_list = mask_groupings(masked_word_list)\n",
    "  masked_group_sentence = ' '.join(masked_group_list)\n",
    "  return masked_group_sentence, final_mask_rate"
   ]
  },
  {
   "cell_type": "code",
   "execution_count": 0,
   "metadata": {
    "colab": {},
    "colab_type": "code",
    "id": "vbye86unVJE3"
   },
   "outputs": [],
   "source": [
    "def main_USE_function(input_sentence, replacement_entity, embedded_text, text_input):\n",
    "    initial_sentence = process_sentence(input_sentence)\n",
    "    replacement_entity = process_entity(replacement_entity)\n",
    "    word_list = get_word_list(initial_sentence)\n",
    "    original_len = get_original_len(word_list)\n",
    "    \n",
    "    leaves = get_trees(initial_sentence, replacement_entity)\n",
    "    entities_list = create_entities_list(leaves)\n",
    "    \n",
    "    if entities_list == []:\n",
    "      entities_list = word_list\n",
    "      \n",
    "    full_entities_list = entities_list + [replacement_entity]\n",
    "    entity_similarities = get_similarity_matrix(embedded_text, text_input, full_entities_list)\n",
    "    replacement_similarities = get_replacement_similarity(entity_similarities)\n",
    "    index_max = get_index_max(replacement_similarities)\n",
    "    replaced_entity, new_sentence = generate_new_sentence(entities_list, replacement_entity, initial_sentence, index_max)\n",
    "    \n",
    "    full_input_list = create_input_list(entities_list, word_list, replacement_entity)\n",
    "    full_index_max = get_full_index_max(full_input_list, replaced_entity)\n",
    "    similarity_matrix = get_similarity_matrix(embedded_text, text_input, full_input_list)\n",
    "    full_replacement_similarities = get_replacement_similarity(similarity_matrix)\n",
    "    original_similarity = get_original_similarity(similarity_matrix, full_index_max)\n",
    "    \n",
    "    masked_group_sentence_1, final_mask_rate_1 = mask_fnc(full_replacement_similarities, original_similarity, full_input_list, \n",
    "                                                  full_index_max, original_len, new_sentence, 0.2, 0.4, replacement_entity)\n",
    "    masked_group_sentence_2, final_mask_rate_2 = mask_fnc(full_replacement_similarities, original_similarity, full_input_list, \n",
    "                                                  full_index_max, original_len, new_sentence, 0.4, 0.3, replacement_entity)\n",
    "    masked_group_sentence_3, final_mask_rate_3 = mask_fnc(full_replacement_similarities, original_similarity, full_input_list, \n",
    "                                                  full_index_max, original_len, new_sentence, 0.6, 0.2, replacement_entity)\n",
    "    masked_group_sentence_4, final_mask_rate_4 = mask_fnc(full_replacement_similarities, original_similarity, full_input_list, \n",
    "                                                  full_index_max, original_len, new_sentence, 0.8, 0.1, replacement_entity)\n",
    "    masked_group_sentences = [masked_group_sentence_1, masked_group_sentence_2, masked_group_sentence_3, masked_group_sentence_4]\n",
    "    final_mask_rates = [final_mask_rate_1, final_mask_rate_2, final_mask_rate_3, final_mask_rate_4]\n",
    "    \n",
    "    return masked_group_sentences, final_mask_rates"
   ]
  },
  {
   "cell_type": "markdown",
   "metadata": {
    "colab_type": "text",
    "id": "cKoyV6e7VLR2"
   },
   "source": [
    "##Transformer for Mask Filling"
   ]
  },
  {
   "cell_type": "markdown",
   "metadata": {
    "colab_type": "text",
    "id": "uaH1X8Iid8ku"
   },
   "source": [
    "Based on code from: http://nlp.seas.harvard.edu/2018/04/03/attention.html"
   ]
  },
  {
   "cell_type": "code",
   "execution_count": 0,
   "metadata": {
    "colab": {},
    "colab_type": "code",
    "id": "46UsnfaoVNsI"
   },
   "outputs": [],
   "source": [
    "import numpy as np\n",
    "import torch\n",
    "import torch.nn as nn\n",
    "import torch.nn.functional as F\n",
    "import math, copy, time\n",
    "from torch.autograd import Variable\n",
    "import matplotlib.pyplot as plt\n",
    "import seaborn\n",
    "seaborn.set_context(context=\"talk\")\n",
    "%matplotlib inline"
   ]
  },
  {
   "cell_type": "code",
   "execution_count": 0,
   "metadata": {
    "colab": {},
    "colab_type": "code",
    "id": "jQvMqd29VQ5Y"
   },
   "outputs": [],
   "source": [
    "cuda = torch.cuda.is_available()\n",
    "device = torch.device(\"cuda\" if cuda else \"cpu\")\n",
    "if cuda:\n",
    "  print(\"Using CUDA from GPU\")\n",
    "\n",
    "!nvidia-smi"
   ]
  },
  {
   "cell_type": "code",
   "execution_count": 0,
   "metadata": {
    "colab": {},
    "colab_type": "code",
    "id": "fiZSr3qiVSDw"
   },
   "outputs": [],
   "source": [
    "class EncoderDecoder(nn.Module):\n",
    "    \"\"\"\n",
    "    A standard Encoder-Decoder architecture. Base for this and many \n",
    "    other models.\n",
    "    \"\"\"\n",
    "    def __init__(self, encoder, decoder, src_embed, tgt_embed, generator):\n",
    "        super(EncoderDecoder, self).__init__()\n",
    "        self.encoder = encoder\n",
    "        self.decoder = decoder\n",
    "        self.src_embed = src_embed\n",
    "        self.tgt_embed = tgt_embed\n",
    "        self.generator = generator\n",
    "        \n",
    "    def forward(self, src, tgt, src_mask, tgt_mask):\n",
    "        \"Take in and process masked src and target sequences.\"\n",
    "        return self.decode(self.encode(src, src_mask), src_mask,\n",
    "                            tgt, tgt_mask)\n",
    "    \n",
    "    def encode(self, src, src_mask):\n",
    "        return self.encoder(self.src_embed(src), src_mask)\n",
    "    \n",
    "    def decode(self, memory, src_mask, tgt, tgt_mask):\n",
    "        return self.decoder(self.tgt_embed(tgt), memory, src_mask, tgt_mask)"
   ]
  },
  {
   "cell_type": "code",
   "execution_count": 0,
   "metadata": {
    "colab": {},
    "colab_type": "code",
    "id": "qGIp67VbVTXq"
   },
   "outputs": [],
   "source": [
    "class Generator(nn.Module):\n",
    "    \"Define standard linear + softmax generation step.\"\n",
    "    def __init__(self, d_model, vocab):\n",
    "        super(Generator, self).__init__()\n",
    "        self.proj = nn.Linear(d_model, vocab)\n",
    "\n",
    "    def forward(self, x):\n",
    "        return F.log_softmax(self.proj(x), dim=-1)"
   ]
  },
  {
   "cell_type": "code",
   "execution_count": 0,
   "metadata": {
    "colab": {},
    "colab_type": "code",
    "id": "d0wYnm9DVVPD"
   },
   "outputs": [],
   "source": [
    "def clones(module, N):\n",
    "    \"Produce N identical layers.\"\n",
    "    return nn.ModuleList([copy.deepcopy(module) for _ in range(N)])"
   ]
  },
  {
   "cell_type": "code",
   "execution_count": 0,
   "metadata": {
    "colab": {},
    "colab_type": "code",
    "id": "x9K8Lkg0VWzL"
   },
   "outputs": [],
   "source": [
    "class Encoder(nn.Module):\n",
    "    \"Core encoder is a stack of N layers\"\n",
    "    def __init__(self, layer, N):\n",
    "        super(Encoder, self).__init__()\n",
    "        self.layers = clones(layer, N)\n",
    "        self.norm = LayerNorm(layer.size)\n",
    "        \n",
    "    def forward(self, x, mask):\n",
    "        \"Pass the input (and mask) through each layer in turn.\"\n",
    "        for layer in self.layers:\n",
    "            x = layer(x, mask)\n",
    "        return self.norm(x)"
   ]
  },
  {
   "cell_type": "code",
   "execution_count": 0,
   "metadata": {
    "colab": {},
    "colab_type": "code",
    "id": "lQhaq2HRVYM0"
   },
   "outputs": [],
   "source": [
    "class LayerNorm(nn.Module):\n",
    "    \"Construct a layernorm module (See citation for details).\"\n",
    "    def __init__(self, features, eps=1e-6):\n",
    "        super(LayerNorm, self).__init__()\n",
    "        self.a_2 = nn.Parameter(torch.ones(features))\n",
    "        self.b_2 = nn.Parameter(torch.zeros(features))\n",
    "        self.eps = eps\n",
    "\n",
    "    def forward(self, x):\n",
    "        mean = x.mean(-1, keepdim=True)\n",
    "        std = x.std(-1, keepdim=True)\n",
    "        return self.a_2 * (x - mean) / (std + self.eps) + self.b_2"
   ]
  },
  {
   "cell_type": "code",
   "execution_count": 0,
   "metadata": {
    "colab": {},
    "colab_type": "code",
    "id": "FFyAkUiJVZVr"
   },
   "outputs": [],
   "source": [
    "class SublayerConnection(nn.Module):\n",
    "    \"\"\"\n",
    "    A residual connection followed by a layer norm.\n",
    "    Note for code simplicity the norm is first as opposed to last.\n",
    "    \"\"\"\n",
    "    def __init__(self, size, dropout):\n",
    "        super(SublayerConnection, self).__init__()\n",
    "        self.norm = LayerNorm(size)\n",
    "        self.dropout = nn.Dropout(dropout)\n",
    "\n",
    "    def forward(self, x, sublayer):\n",
    "        \"Apply residual connection to any sublayer with the same size.\"\n",
    "        return x + self.dropout(sublayer(self.norm(x)))"
   ]
  },
  {
   "cell_type": "code",
   "execution_count": 0,
   "metadata": {
    "colab": {},
    "colab_type": "code",
    "id": "jeC-Je2KVadU"
   },
   "outputs": [],
   "source": [
    "class EncoderLayer(nn.Module):\n",
    "    \"Encoder is made up of self-attn and feed forward (defined below)\"\n",
    "    def __init__(self, size, self_attn, feed_forward, dropout):\n",
    "        super(EncoderLayer, self).__init__()\n",
    "        self.self_attn = self_attn\n",
    "        self.feed_forward = feed_forward\n",
    "        self.sublayer = clones(SublayerConnection(size, dropout), 2)\n",
    "        self.size = size\n",
    "\n",
    "    def forward(self, x, mask):\n",
    "        \"Follow Figure 1 (left) for connections.\"\n",
    "        x = self.sublayer[0](x, lambda x: self.self_attn(x, x, x, mask))\n",
    "        return self.sublayer[1](x, self.feed_forward)"
   ]
  },
  {
   "cell_type": "code",
   "execution_count": 0,
   "metadata": {
    "colab": {},
    "colab_type": "code",
    "id": "iHlvyrAHVbtA"
   },
   "outputs": [],
   "source": [
    "class Decoder(nn.Module):\n",
    "    \"Generic N layer decoder with masking.\"\n",
    "    def __init__(self, layer, N):\n",
    "        super(Decoder, self).__init__()\n",
    "        self.layers = clones(layer, N)\n",
    "        self.norm = LayerNorm(layer.size)\n",
    "        \n",
    "    def forward(self, x, memory, src_mask, tgt_mask):\n",
    "        for layer in self.layers:\n",
    "            x = layer(x, memory, src_mask, tgt_mask)\n",
    "        return self.norm(x)"
   ]
  },
  {
   "cell_type": "code",
   "execution_count": 0,
   "metadata": {
    "colab": {},
    "colab_type": "code",
    "id": "-C_vE8V-Vc3G"
   },
   "outputs": [],
   "source": [
    "class DecoderLayer(nn.Module):\n",
    "    \"Decoder is made of self-attn, src-attn, and feed forward (defined below)\"\n",
    "    def __init__(self, size, self_attn, src_attn, feed_forward, dropout):\n",
    "        super(DecoderLayer, self).__init__()\n",
    "        self.size = size\n",
    "        self.self_attn = self_attn\n",
    "        self.src_attn = src_attn\n",
    "        self.feed_forward = feed_forward\n",
    "        self.sublayer = clones(SublayerConnection(size, dropout), 3)\n",
    " \n",
    "    def forward(self, x, memory, src_mask, tgt_mask):\n",
    "        \"Follow Figure 1 (right) for connections.\"\n",
    "        m = memory\n",
    "        x = self.sublayer[0](x, lambda x: self.self_attn(x, x, x, tgt_mask))\n",
    "        x = self.sublayer[1](x, lambda x: self.src_attn(x, m, m, src_mask))\n",
    "        return self.sublayer[2](x, self.feed_forward)"
   ]
  },
  {
   "cell_type": "code",
   "execution_count": 0,
   "metadata": {
    "colab": {},
    "colab_type": "code",
    "id": "9spGsIPaVeui"
   },
   "outputs": [],
   "source": [
    "def subsequent_mask(size):\n",
    "    \"Mask out subsequent positions.\"\n",
    "    attn_shape = (1, size, size)\n",
    "    subsequent_mask = np.triu(np.ones(attn_shape), k=1).astype('uint8')\n",
    "    return torch.from_numpy(subsequent_mask) == 0"
   ]
  },
  {
   "cell_type": "code",
   "execution_count": 0,
   "metadata": {
    "colab": {},
    "colab_type": "code",
    "id": "O66RuuPuVf9e"
   },
   "outputs": [],
   "source": [
    "def attention(query, key, value, mask=None, dropout=None):\n",
    "    \"Compute 'Scaled Dot Product Attention'\"\n",
    "    d_k = query.size(-1)\n",
    "    scores = torch.matmul(query, key.transpose(-2, -1)) \\\n",
    "             / math.sqrt(d_k)\n",
    "    if mask is not None:\n",
    "        scores = scores.masked_fill(mask == 0, -1e9)\n",
    "    p_attn = F.softmax(scores, dim = -1)\n",
    "    if dropout is not None:\n",
    "        p_attn = dropout(p_attn)\n",
    "    return torch.matmul(p_attn, value), p_attn"
   ]
  },
  {
   "cell_type": "code",
   "execution_count": 0,
   "metadata": {
    "colab": {},
    "colab_type": "code",
    "id": "4lae1X0agiMf"
   },
   "outputs": [],
   "source": [
    "class MultiHeadedAttention(nn.Module):\n",
    "    def __init__(self, h, d_model, dropout=0.1):\n",
    "        \"Take in model size and number of heads.\"\n",
    "        super(MultiHeadedAttention, self).__init__()\n",
    "        assert d_model % h == 0\n",
    "        # We assume d_v always equals d_k\n",
    "        self.d_k = d_model // h\n",
    "        self.h = h\n",
    "        self.linears = clones(nn.Linear(d_model, d_model), 4)\n",
    "        self.attn = None\n",
    "        self.dropout = nn.Dropout(p=dropout)\n",
    "        \n",
    "    def forward(self, query, key, value, mask=None):\n",
    "        \"Implements Figure 2\"\n",
    "        if mask is not None:\n",
    "            # Same mask applied to all h heads.\n",
    "            mask = mask.unsqueeze(1)\n",
    "        nbatches = query.size(0)\n",
    "        \n",
    "        # 1) Do all the linear projections in batch from d_model => h x d_k \n",
    "        query, key, value = \\\n",
    "            [l(x).view(nbatches, -1, self.h, self.d_k).transpose(1, 2)\n",
    "             for l, x in zip(self.linears, (query, key, value))]\n",
    "        \n",
    "        # 2) Apply attention on all the projected vectors in batch. \n",
    "        x, self.attn = attention(query, key, value, mask=mask, \n",
    "                                 dropout=self.dropout)\n",
    "        \n",
    "        # 3) \"Concat\" using a view and apply a final linear. \n",
    "        x = x.transpose(1, 2).contiguous() \\\n",
    "             .view(nbatches, -1, self.h * self.d_k)\n",
    "        return self.linears[-1](x)"
   ]
  },
  {
   "cell_type": "code",
   "execution_count": 0,
   "metadata": {
    "colab": {},
    "colab_type": "code",
    "id": "hbjDbjnPgkwq"
   },
   "outputs": [],
   "source": [
    "class PositionwiseFeedForward(nn.Module):\n",
    "    \"Implements FFN equation.\"\n",
    "    def __init__(self, d_model, d_ff, dropout=0.1):\n",
    "        super(PositionwiseFeedForward, self).__init__()\n",
    "        self.w_1 = nn.Linear(d_model, d_ff)\n",
    "        self.w_2 = nn.Linear(d_ff, d_model)\n",
    "        self.dropout = nn.Dropout(dropout)\n",
    "\n",
    "    def forward(self, x):\n",
    "        return self.w_2(self.dropout(F.relu(self.w_1(x))))"
   ]
  },
  {
   "cell_type": "code",
   "execution_count": 0,
   "metadata": {
    "colab": {},
    "colab_type": "code",
    "id": "id7Qap13gmFC"
   },
   "outputs": [],
   "source": [
    "class Embeddings(nn.Module):\n",
    "    def __init__(self, d_model, vocab):\n",
    "        super(Embeddings, self).__init__()\n",
    "        self.lut = nn.Embedding(vocab, d_model)\n",
    "        self.d_model = d_model\n",
    "\n",
    "    def forward(self, x):\n",
    "        return self.lut(x) * math.sqrt(self.d_model)"
   ]
  },
  {
   "cell_type": "code",
   "execution_count": 0,
   "metadata": {
    "colab": {},
    "colab_type": "code",
    "id": "B1V31mEfgnL6"
   },
   "outputs": [],
   "source": [
    "class PositionalEncoding(nn.Module):\n",
    "    \"Implement the PE function.\"\n",
    "    def __init__(self, d_model, dropout, max_len=5000):\n",
    "        super(PositionalEncoding, self).__init__()\n",
    "        self.dropout = nn.Dropout(p=dropout)\n",
    "        \n",
    "        # Compute the positional encodings once in log space.\n",
    "        pe = torch.zeros(max_len, d_model)\n",
    "        position = torch.arange(0., max_len).unsqueeze(1)\n",
    "        div_term = torch.exp(torch.arange(0., d_model, 2) *\n",
    "                             -(math.log(10000.0) / d_model))\n",
    "        pe[:, 0::2] = torch.sin(position * div_term)\n",
    "        pe[:, 1::2] = torch.cos(position * div_term)\n",
    "        pe = pe.unsqueeze(0)\n",
    "        self.register_buffer('pe', pe)\n",
    "        \n",
    "    def forward(self, x):\n",
    "        x = x + Variable(self.pe[:, :x.size(1)], \n",
    "                         requires_grad=False)\n",
    "        return self.dropout(x)"
   ]
  },
  {
   "cell_type": "code",
   "execution_count": 0,
   "metadata": {
    "colab": {},
    "colab_type": "code",
    "id": "odusMUJtgokS"
   },
   "outputs": [],
   "source": [
    "def make_model(src_vocab, tgt_vocab, N=6, \n",
    "               d_model=512, d_ff=2048, h=8, dropout=0.1):\n",
    "    \"Helper: Construct a model from hyperparameters.\"\n",
    "    c = copy.deepcopy\n",
    "    attn = MultiHeadedAttention(h, d_model)\n",
    "    ff = PositionwiseFeedForward(d_model, d_ff, dropout)\n",
    "    position = PositionalEncoding(d_model, dropout)\n",
    "    model = EncoderDecoder(\n",
    "        Encoder(EncoderLayer(d_model, c(attn), c(ff), dropout), N),\n",
    "        Decoder(DecoderLayer(d_model, c(attn), c(attn), \n",
    "                             c(ff), dropout), N),\n",
    "        nn.Sequential(Embeddings(d_model, src_vocab), c(position)),\n",
    "        nn.Sequential(Embeddings(d_model, tgt_vocab), c(position)),\n",
    "        Generator(d_model, tgt_vocab))\n",
    "    \n",
    "    for p in model.parameters():\n",
    "        if p.dim() > 1:\n",
    "            nn.init.xavier_uniform(p)\n",
    "    model = model.cuda()\n",
    "    return model"
   ]
  },
  {
   "cell_type": "code",
   "execution_count": 0,
   "metadata": {
    "colab": {},
    "colab_type": "code",
    "id": "Gfmrj6N3g5Qr"
   },
   "outputs": [],
   "source": [
    "def greedy_decode(model, src, src_mask, max_len, start_symbol):\n",
    "    src_mask = src_mask.to(device)\n",
    "    model = model.to(device)\n",
    "    memory = model.encode(src, src_mask)\n",
    "    ys = torch.ones(1, 1).fill_(start_symbol).type_as(src.data)\n",
    "    for i in range(max_len-1):\n",
    "        out = model.decode(memory, src_mask, \n",
    "                           Variable(ys), \n",
    "                           Variable(subsequent_mask(ys.size(1))\n",
    "                                    .type_as(src.data)))\n",
    "        prob = model.generator(out[:, -1])\n",
    "        _, next_word = torch.max(prob, dim = 1)\n",
    "        next_word = next_word.data[0]\n",
    "        ys = torch.cat([ys, \n",
    "                        torch.ones(1, 1).type_as(src.data).fill_(next_word)], dim=1)\n",
    "    return ys"
   ]
  },
  {
   "cell_type": "code",
   "execution_count": 0,
   "metadata": {
    "colab": {},
    "colab_type": "code",
    "id": "ctJUtYywg7Et"
   },
   "outputs": [],
   "source": [
    "# For data loading.\n",
    "import os\n",
    "from torchtext import data, datasets\n",
    "from torchtext.data import Field, BucketIterator, TabularDataset\n",
    "\n",
    "main_path = \"/content/drive/My Drive/\"\n",
    "\n",
    "corpus_name = \"News_Dataset\"\n",
    "corpus = os.path.join(main_path, corpus_name)\n",
    "save_dir = os.path.join(corpus, \"output/transformer\")\n",
    "data_path = os.path.join(corpus, \"data/transformer_data\")\n",
    "os.chdir(data_path)"
   ]
  },
  {
   "cell_type": "code",
   "execution_count": 0,
   "metadata": {
    "colab": {},
    "colab_type": "code",
    "id": "8tsmlp4-g857"
   },
   "outputs": [],
   "source": [
    "from string import punctuation\n",
    "import re\n",
    "\n",
    "\n",
    "def process_text_user(s):\n",
    "    s = s.lower().strip()\n",
    "    s = re.sub('\\!+', '!', s)\n",
    "    s = re.sub('\\,+', ',', s)\n",
    "    s = re.sub('\\?+', '?', s)\n",
    "    s = re.sub('\\.+', '.', s)    \n",
    "    s = re.sub(\"[^a-zA-Z.!?,\\[\\]'']+\", ' ', s)\n",
    "    for p in punctuation:\n",
    "      if p not in [\"'\", \"[\", \"]\"]:\n",
    "        s = s.replace(p, \" \" + p + \" \")       \n",
    "    #s = re.sub('([.!?,])', ' \\1', s)\n",
    "    s = re.sub(' +', ' ', s)\n",
    "    s = s.strip()\n",
    "    return s\n",
    "\n",
    "  \n",
    "BOS_WORD = '<s>'\n",
    "EOS_WORD = '</s>'\n",
    "BLANK_WORD = \"<blank>\"\n",
    "SRC = data.Field(pad_token=BLANK_WORD)\n",
    "TGT = data.Field(init_token = BOS_WORD, \n",
    "                 eos_token = EOS_WORD, pad_token=BLANK_WORD)"
   ]
  },
  {
   "cell_type": "code",
   "execution_count": 0,
   "metadata": {
    "colab": {},
    "colab_type": "code",
    "id": "ISC4fTKog-ON"
   },
   "outputs": [],
   "source": [
    "data_fields = [('src', SRC), ('trg', TGT)]\n",
    "train,val,test = data.TabularDataset.splits(path=data_path, train='train.csv', validation='val.csv', test='test.csv', format='csv', fields=data_fields)\n",
    "\n",
    "SRC.build_vocab(train, val)\n",
    "TGT.build_vocab(train, val)"
   ]
  },
  {
   "cell_type": "code",
   "execution_count": 0,
   "metadata": {
    "colab": {},
    "colab_type": "code",
    "id": "KkZ5UbmwhEg2"
   },
   "outputs": [],
   "source": [
    "path = os.path.join(save_dir, \"news_transformer_10.pt\")\n",
    "\n",
    "model = torch.load(path)\n",
    "model = model.cuda()\n",
    "model.eval()"
   ]
  },
  {
   "cell_type": "code",
   "execution_count": 0,
   "metadata": {
    "colab": {},
    "colab_type": "code",
    "id": "jed5IoRWhqOp"
   },
   "outputs": [],
   "source": [
    "def evaluate_input(input_sentence):\n",
    "  processed_sentence = process_text_user(input_sentence)\n",
    "  sent = processed_sentence.split()\n",
    "  src = torch.LongTensor([[SRC.vocab.stoi[w] for w in sent]]) \n",
    "  src = Variable(src)\n",
    "  src = src.cuda()\n",
    "  src_mask = (src != SRC.vocab.stoi[\"<blank>\"]).unsqueeze(-2)\n",
    "  src_mask = src_mask.cuda()\n",
    "  out = greedy_decode(model, src, src_mask, \n",
    "                      max_len=60, start_symbol=TGT.vocab.stoi[\"<s>\"])\n",
    "  print(\"Output:\", end=\"\\t\")\n",
    "  output = \"\"\n",
    "  for i in range(1, out.size(1)):\n",
    "      sym = TGT.vocab.itos[out[0, i]]\n",
    "      if sym == \"</s>\": break\n",
    "      output += sym + \" \"\n",
    "  print(output)\n",
    "  return output"
   ]
  },
  {
   "cell_type": "markdown",
   "metadata": {
    "colab_type": "text",
    "id": "4Ey2ptCDdO_O"
   },
   "source": [
    "## Example"
   ]
  },
  {
   "cell_type": "code",
   "execution_count": 0,
   "metadata": {
    "colab": {
     "base_uri": "https://localhost:8080/",
     "height": 136
    },
    "colab_type": "code",
    "id": "EJXZzi30dAyA",
    "outputId": "3d0b796b-b67e-4594-83f6-a81e84eaab3c"
   },
   "outputs": [
    {
     "name": "stdout",
     "output_type": "stream",
     "text": [
      "\n",
      "Final masked sentences:  ['trump is president of america', 'trump is president of america', 'trump is [mask]', 'trump [mask]']\n",
      "\n",
      "Final mask rates:  [0.0, 0.0, 0.6, 0.8]\n",
      "Output:\ttrump is president of america \n",
      "\n",
      "Final output example:  trump is president of america \n"
     ]
    }
   ],
   "source": [
    "#Example (for news headlines)\n",
    "\n",
    "user_input = \"Obama is president of America\"\n",
    "replacement_entity = \"Trump\"\n",
    "\n",
    "masked_sentences, mask_rates = main_USE_function(user_input, replacement_entity, embedded_text, text_input)\n",
    "print(\"\\nFinal masked sentences: \", masked_sentences)\n",
    "print(\"Final mask rates: \", mask_rates, '\\n')\n",
    "\n",
    "output_example = evaluate_input(masked_sentences[0])"
   ]
  },
  {
   "cell_type": "markdown",
   "metadata": {
    "colab_type": "text",
    "id": "AnxktxYr2LQP"
   },
   "source": [
    "#Evaluation Data Preparation\n"
   ]
  },
  {
   "cell_type": "markdown",
   "metadata": {
    "colab_type": "text",
    "id": "vBoaa662gUNa"
   },
   "source": [
    "## Write Pipeline Outputs for Evaluation Lines"
   ]
  },
  {
   "cell_type": "code",
   "execution_count": 0,
   "metadata": {
    "colab": {},
    "colab_type": "code",
    "id": "dvnJuaL-2lbR"
   },
   "outputs": [],
   "source": [
    "eval_dir = os.path.join(corpus, \"data/evaluation_data/\")\n",
    "eval_path = os.path.join(eval_dir, \"eval_headlines.txt\")\n",
    "\n",
    "path_20 = os.path.join(eval_dir, \"news_output_20.txt\")\n",
    "path_40 = os.path.join(eval_dir, \"news_output_40.txt\")\n",
    "path_60 = os.path.join(eval_dir, \"news_output_60.txt\")\n",
    "path_80 = os.path.join(eval_dir, \"news_output_80.txt\")"
   ]
  },
  {
   "cell_type": "code",
   "execution_count": 0,
   "metadata": {
    "colab": {
     "base_uri": "https://localhost:8080/",
     "height": 204
    },
    "colab_type": "code",
    "id": "Wf93lsKD3Mtm",
    "outputId": "185e06a2-2a2c-4fa3-f019-da224fd3ed74"
   },
   "outputs": [
    {
     "name": "stdout",
     "output_type": "stream",
     "text": [
      "Reading lines...\n",
      "['trump', 'deadly shooting at texas high school']\n",
      "['trump', \"iggy azalea's rep slams sex tape allegations\"]\n",
      "['trump', 'colleges where the most alumni donate']\n",
      "['trump', \"nathaniel dancy jr . , year old boy , saves his dad's life with spelling skills video\"]\n",
      "['trump', \"larry david goes to the dark side with death camp pick up lines on 'snl'\"]\n",
      "['trump', 'a small home for four has us reconsidering how much space we really need photos']\n",
      "['trump', 'federal court rules ohio voting cutbacks are unconstitutional']\n",
      "['trump', \"'avengers' strangely makes more sense with bad lip reading\"]\n",
      "['trump', \"girls' goals marriage no longer a priority for young women\"]\n",
      "['trump', \"two chips the drunk nacho joke video we can't get enough of video\"]\n"
     ]
    }
   ],
   "source": [
    "def get_eval_lines(eval_path):\n",
    "    print(\"Reading lines...\")\n",
    "    lines = open(eval_path, encoding='utf-8').\\\n",
    "        read().strip().split('\\n')\n",
    "    eval_lines = [l.split('\\t') for l in lines]\n",
    "    return eval_lines\n",
    "  \n",
    "  \n",
    "eval_lines = get_eval_lines(eval_path)\n",
    "\n",
    "for eval_line in eval_lines[:10]:\n",
    "    print(eval_line)"
   ]
  },
  {
   "cell_type": "code",
   "execution_count": 0,
   "metadata": {
    "colab": {},
    "colab_type": "code",
    "id": "YU0kQBwvI2xH"
   },
   "outputs": [],
   "source": [
    "def write_results(eval_lines, path_20, path_40, path_60, path_80, counter_start):\n",
    "  f_20 = open(path_20, 'a')\n",
    "  f_40 = open(path_40, 'a')\n",
    "  f_60 = open(path_60, 'a')\n",
    "  f_80 = open(path_80, 'a')\n",
    "  \n",
    "  counter = counter_start\n",
    "  \n",
    "  for line in eval_lines:\n",
    "    print(\"\\nCurrently evaluating line {}\".format(counter))\n",
    "    print(\"Line: \", line)\n",
    "      \n",
    "    replacement_entity = line[0]\n",
    "    user_input = line[1]\n",
    "    masked_sentences, mask_rates = main_USE_function(user_input, replacement_entity, embedded_text, text_input)\n",
    "    \n",
    "    output_20 = evaluate_input(masked_sentences[0])\n",
    "    output_40 = evaluate_input(masked_sentences[1])\n",
    "    output_60 = evaluate_input(masked_sentences[2])\n",
    "    output_80 = evaluate_input(masked_sentences[3])\n",
    "    \n",
    "    mask_rate_20 = mask_rates[0]\n",
    "    mask_rate_40 = mask_rates[1]\n",
    "    mask_rate_60 = mask_rates[2]\n",
    "    mask_rate_80 = mask_rates[3]\n",
    "    \n",
    "    ##For news headlines dataset:\n",
    "    f_20.write(output_20 + '\\t' + str(round(mask_rate_20, 3)) + '\\n')\n",
    "    f_40.write(output_40 + '\\t' + str(round(mask_rate_40, 3)) + '\\n')\n",
    "    f_60.write(output_60 + '\\t' + str(round(mask_rate_60, 3)) + '\\n')\n",
    "    f_80.write(output_80 + '\\t' + str(round(mask_rate_80, 3)) + '\\n')\n",
    "    \n",
    "    ##For reviews:\n",
    "    #f_20.write(output_20 + '\\t' + str(round(mask_rate_20, 3)) + '\\t' + line[2] + '\\n')\n",
    "    #f_40.write(output_40 + '\\t' + str(round(mask_rate_40, 3)) + '\\t' + line[2] + '\\n')\n",
    "    #f_60.write(output_60 + '\\t' + str(round(mask_rate_60, 3)) + '\\t' + line[2] + '\\n')\n",
    "    #f_80.write(output_80 + '\\t' + str(round(mask_rate_80, 3)) + '\\t' + line[2] + '\\n')\n",
    "    \n",
    "    counter += 1\n",
    "  \n",
    "  f_20.close()\n",
    "  f_40.close()\n",
    "  f_60.close()\n",
    "  f_80.close()\n",
    "  \n",
    "\n",
    "write_results(eval_lines, path_20, path_40, path_60, path_80, 1)"
   ]
  }
 ],
 "metadata": {
  "accelerator": "GPU",
  "colab": {
   "collapsed_sections": [],
   "name": "new_chatbot_notebook (transformer).ipynb",
   "provenance": [],
   "version": "0.3.2"
  },
  "kernelspec": {
   "display_name": "Python 3",
   "language": "python",
   "name": "python3"
  },
  "language_info": {
   "codemirror_mode": {
    "name": "ipython",
    "version": 3
   },
   "file_extension": ".py",
   "mimetype": "text/x-python",
   "name": "python",
   "nbconvert_exporter": "python",
   "pygments_lexer": "ipython3",
   "version": "3.7.3"
  }
 },
 "nbformat": 4,
 "nbformat_minor": 1
}
