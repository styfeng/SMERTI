{
 "cells": [
  {
   "cell_type": "code",
   "execution_count": 0,
   "metadata": {
    "colab": {},
    "colab_type": "code",
    "id": "HX-Hc-AZQgh2"
   },
   "outputs": [],
   "source": [
    "!nvidia-smi\n",
    "\n",
    "from google.colab import drive\n",
    "drive.mount('/content/drive')"
   ]
  },
  {
   "cell_type": "code",
   "execution_count": 0,
   "metadata": {
    "colab": {},
    "colab_type": "code",
    "id": "4h0_5_HULFNg"
   },
   "outputs": [],
   "source": [
    "import numpy as np\n",
    "import pandas as pd\n",
    "import seaborn as sns\n",
    "import matplotlib.pyplot as plt\n",
    "from scipy import stats\n",
    "from scipy.stats import norm"
   ]
  },
  {
   "cell_type": "code",
   "execution_count": 0,
   "metadata": {
    "colab": {},
    "colab_type": "code",
    "id": "9XeGVGFQLIbi"
   },
   "outputs": [],
   "source": [
    "def get_SLOR_list(paths):\n",
    "  total_SLOR_list = []\n",
    "  for path in paths:\n",
    "    total_SLOR_list.extend([float(line.strip()) for line in open(path)])\n",
    "  return total_SLOR_list"
   ]
  },
  {
   "cell_type": "code",
   "execution_count": 0,
   "metadata": {
    "colab": {},
    "colab_type": "code",
    "id": "0CJSO5SdRX2K"
   },
   "outputs": [],
   "source": [
    "def fit_gaussian(lst):\n",
    "  mu, std = norm.fit(lst)\n",
    "  print(\"\\nmu: \", mu, \"\\nstd: \", std)\n",
    "\n",
    "  # Plot the histogram.\n",
    "  plt.hist(lst, bins=25, density=True, alpha=0.6, color='g')\n",
    "\n",
    "  # Plot the PDF.\n",
    "  xmin, xmax = plt.xlim()\n",
    "  x = np.linspace(xmin, xmax, 100)\n",
    "  p = norm.pdf(x, mu, std)\n",
    "  plt.plot(x, p, 'k', linewidth=2)\n",
    "  title = \"Fit results: mu = %.2f,  std = %.2f\" % (mu, std)\n",
    "  plt.title(title)\n",
    "\n",
    "  plt.show()\n",
    "  \n",
    "  return mu, std"
   ]
  },
  {
   "cell_type": "code",
   "execution_count": 0,
   "metadata": {
    "colab": {},
    "colab_type": "code",
    "id": "mPCWAtLdR4gD"
   },
   "outputs": [],
   "source": [
    "def normalize_SLOR(SLOR_list, mu, std):\n",
    "  new_SLOR_list = []\n",
    "  SLOR_out = []\n",
    "  for score in SLOR_list:\n",
    "    new_score = (score - mu) / std\n",
    "    new_SLOR_list.append(new_score)\n",
    "    if new_score > 3 or new_score < -3:\n",
    "      SLOR_out.append(new_score)\n",
    "  return new_SLOR_list, SLOR_out"
   ]
  },
  {
   "cell_type": "code",
   "execution_count": 0,
   "metadata": {
    "cellView": "both",
    "colab": {},
    "colab_type": "code",
    "id": "QBAME3DOYOZ_"
   },
   "outputs": [],
   "source": [
    "def final_normalize_SLOR(SLOR_list):\n",
    "  new_SLOR_list = []\n",
    "  for score in SLOR_list:\n",
    "    if score < -3:\n",
    "      new_score = (-3 / 6) + 0.5\n",
    "    elif score > 3:\n",
    "      new_score = (3 / 6) + 0.5\n",
    "    else:\n",
    "      new_score = (score / 6) + 0.5\n",
    "    new_SLOR_list.append(new_score)\n",
    "  return new_SLOR_list"
   ]
  },
  {
   "cell_type": "code",
   "execution_count": 0,
   "metadata": {
    "colab": {},
    "colab_type": "code",
    "id": "4-nXKXXXGKfy"
   },
   "outputs": [],
   "source": [
    "def chunks(l, n):\n",
    "  n = max(1, n)\n",
    "  return [l[i:i+n] for i in range(0, len(l), n)]\n",
    "\n",
    "\n",
    "def get_chunk_avgs(chunks):\n",
    "  chunk_avg_list = []\n",
    "  for chunk in chunks:\n",
    "    chunk_avg = sum(chunk) / len(chunk)\n",
    "    print(\"Chunk avg: \", chunk_avg)\n",
    "    chunk_avg_list.append(chunk_avg)\n",
    "  return chunk_avg_list"
   ]
  },
  {
   "cell_type": "code",
   "execution_count": 0,
   "metadata": {
    "colab": {
     "base_uri": "https://localhost:8080/",
     "height": 2424
    },
    "colab_type": "code",
    "id": "gapGz-C0P2QD",
    "outputId": "be73ba69-69b6-43b9-841f-a63fd95eb6cd"
   },
   "outputs": [
    {
     "name": "stdout",
     "output_type": "stream",
     "text": [
      "\n",
      "mu:  0.12499940812964938 \n",
      "std:  0.25188299013846693\n"
     ]
    },
    {
     "data": {
      "image/png": "[encoded data removed]",
      "text/plain": [
       "<Figure size 432x288 with 1 Axes>"
      ]
     },
     "metadata": {
      "tags": []
     },
     "output_type": "display_data"
    },
    {
     "name": "stdout",
     "output_type": "stream",
     "text": [
      "\n",
      "mu:  2.105311809659556e-18 \n",
      "std:  0.9999999999999998\n"
     ]
    },
    {
     "data": {
      "image/png": "[encoded data removed]",
      "text/plain": [
       "<Figure size 432x288 with 1 Axes>"
      ]
     },
     "metadata": {
      "tags": []
     },
     "output_type": "display_data"
    },
    {
     "name": "stdout",
     "output_type": "stream",
     "text": [
      "Length of SLOR_out:  639\n",
      "Ratio out:  0.00788888888888889\n",
      "\n",
      "mu:  0.5004540073157526 \n",
      "std:  0.16336220699690196\n"
     ]
    },
    {
     "data": {
      "image/png": "[encoded data removed]",
      "text/plain": [
       "<Figure size 432x288 with 1 Axes>"
      ]
     },
     "metadata": {
      "tags": []
     },
     "output_type": "display_data"
    },
    {
     "name": "stdout",
     "output_type": "stream",
     "text": [
      "Minimum:  0.0\n",
      "Maximum:  1.0 \n",
      "\n",
      "Chunk avg:  0.6123926271928621\n",
      "Chunk avg:  0.5529245754515484\n",
      "Chunk avg:  0.5444745920872616\n",
      "Chunk avg:  0.5202585723045314\n",
      "Chunk avg:  0.4399645730774419\n",
      "Chunk avg:  0.5567584789258626\n",
      "Chunk avg:  0.5437262737117031\n",
      "Chunk avg:  0.5156611611961377\n",
      "Chunk avg:  0.4261111744150089\n",
      "Chunk avg:  0.6044389011569496\n",
      "Chunk avg:  0.5451075680879267\n",
      "Chunk avg:  0.5393962643657731\n",
      "Chunk avg:  0.523496524879447\n",
      "Chunk avg:  0.4444559925521645\n",
      "Chunk avg:  0.5502527127978883\n",
      "Chunk avg:  0.5351748549702826\n",
      "Chunk avg:  0.5087439751948409\n",
      "Chunk avg:  0.425428655768248\n",
      "Chunk avg:  0.6031660934615772\n",
      "Chunk avg:  0.5444260216396605\n",
      "Chunk avg:  0.5320067007688618\n",
      "Chunk avg:  0.510872523866515\n",
      "Chunk avg:  0.41879832578324805\n",
      "Chunk avg:  0.5433541198580937\n",
      "Chunk avg:  0.5273513627018441\n",
      "Chunk avg:  0.5000818039799793\n",
      "Chunk avg:  0.41907802569134317\n",
      "Chunk avg:  0.5265818374585234\n",
      "Chunk avg:  0.4957191302600245\n",
      "Chunk avg:  0.4862734403546889\n",
      "Chunk avg:  0.46630075916135555\n",
      "Chunk avg:  0.40359905717910644\n",
      "Chunk avg:  0.49848322877072165\n",
      "Chunk avg:  0.48513706146195007\n",
      "Chunk avg:  0.46593059022318545\n",
      "Chunk avg:  0.4044396721358591\n",
      "Chunk avg:  0.5314618160326497\n",
      "Chunk avg:  0.4963737589983505\n",
      "Chunk avg:  0.48631102743770166\n",
      "Chunk avg:  0.4650334072484479\n",
      "Chunk avg:  0.3978299685924129\n",
      "Chunk avg:  0.5016326624419991\n",
      "Chunk avg:  0.4874242813982223\n",
      "Chunk avg:  0.4616461164236946\n",
      "Chunk avg:  0.3961323067084697\n",
      "Chunk avg:  0.5475223321001914\n",
      "Chunk avg:  0.5101696986991302\n",
      "Chunk avg:  0.5006016747035975\n",
      "Chunk avg:  0.47993272606602466\n",
      "Chunk avg:  0.4085486261622716\n",
      "Chunk avg:  0.5141368332219922\n",
      "Chunk avg:  0.5014397398620157\n",
      "Chunk avg:  0.47417404443008265\n",
      "Chunk avg:  0.41398411307995037\n",
      "Chunk avg:  0.5874479280236143\n",
      "Chunk avg:  0.535364779210681\n",
      "Chunk avg:  0.5194506310015246\n",
      "Chunk avg:  0.5079041584794134\n",
      "Chunk avg:  0.48401991457927634\n",
      "Chunk avg:  0.5117388514229778\n",
      "Chunk avg:  0.49363415624359697\n",
      "Chunk avg:  0.46707814477514037\n",
      "Chunk avg:  0.428586856751216\n",
      "Chunk avg:  0.5947991016232481\n",
      "Chunk avg:  0.5424941485727293\n",
      "Chunk avg:  0.527583133943276\n",
      "Chunk avg:  0.5122321250914643\n",
      "Chunk avg:  0.48495853311926584\n",
      "Chunk avg:  0.5214239681291056\n",
      "Chunk avg:  0.4937672046472122\n",
      "Chunk avg:  0.47420882603413067\n",
      "Chunk avg:  0.4389002799268338\n",
      "Chunk avg:  0.5916172284369088\n",
      "Chunk avg:  0.5469592851501959\n",
      "Chunk avg:  0.5333490251564086\n",
      "Chunk avg:  0.5200428176149067\n",
      "Chunk avg:  0.47948822050936146\n",
      "Chunk avg:  0.5261494933118994\n",
      "Chunk avg:  0.5043779252227891\n",
      "Chunk avg:  0.4796884074470694\n",
      "Chunk avg:  0.4347870816520978\n"
     ]
    }
   ],
   "source": [
    "path1 = \"SLOR_list_amazon.txt\"\n",
    "path2 = \"SLOR_list_yelp.txt\"\n",
    "path3 = \"SLOR_list_news.txt\"\n",
    "\n",
    "total_SLOR_list = get_SLOR_list([path1, path2, path3])\n",
    "mu, std = fit_gaussian(total_SLOR_list)\n",
    "\n",
    "normalized_SLOR_list, SLOR_out = normalize_SLOR(total_SLOR_list, mu, std)\n",
    "mu_2, std_2 = fit_gaussian(normalized_SLOR_list)\n",
    "print(\"Length of SLOR_out: \", len(SLOR_out))\n",
    "print(\"Ratio out: \", len(SLOR_out) / len(normalized_SLOR_list))\n",
    "\n",
    "final_SLOR_list = final_normalize_SLOR(normalized_SLOR_list)\n",
    "mu_3, std_3 = fit_gaussian(final_SLOR_list)\n",
    "print(\"Minimum: \", min(final_SLOR_list))\n",
    "print(\"Maximum: \", max(final_SLOR_list), '\\n')\n",
    "\n",
    "SLOR_chunks = chunks(final_SLOR_list, 1000)\n",
    "chunk_avgs = get_chunk_avgs(SLOR_chunks)"
   ]
  }
 ],
 "metadata": {
  "accelerator": "GPU",
  "colab": {
   "collapsed_sections": [],
   "name": "SLOR_norm & linear_regression (new).ipynb",
   "provenance": [],
   "version": "0.3.2"
  },
  "kernelspec": {
   "display_name": "Python 3",
   "language": "python",
   "name": "python3"
  },
  "language_info": {
   "codemirror_mode": {
    "name": "ipython",
    "version": 3
   },
   "file_extension": ".py",
   "mimetype": "text/x-python",
   "name": "python",
   "nbconvert_exporter": "python",
   "pygments_lexer": "ipython3",
   "version": "3.7.3"
  }
 },
 "nbformat": 4,
 "nbformat_minor": 1
}
